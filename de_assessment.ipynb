{
 "cells": [
  {
   "cell_type": "markdown",
   "metadata": {},
   "source": [
    "## Initializing SparkSession"
   ]
  },
  {
   "cell_type": "code",
   "execution_count": 485,
   "metadata": {},
   "outputs": [],
   "source": [
    "# Import PySpark\n",
    "import pyspark\n",
    "\n",
    "# Import modules\n",
    "from pyspark.sql import SparkSession\n",
    "from pyspark.sql.functions import *\n",
    "from pyspark.sql.types import *\n",
    "\n",
    "import numpy as np\n",
    "import matplotlib.pyplot as plt\n",
    "\n",
    "# Create sparksession and giving an app name\n",
    "spark = SparkSession \\\n",
    "        .builder \\\n",
    "        .appName(\"paynet\") \\\n",
    "        .getOrCreate()"
   ]
  },
  {
   "cell_type": "markdown",
   "metadata": {},
   "source": [
    "## Read JSON file"
   ]
  },
  {
   "cell_type": "code",
   "execution_count": 486,
   "metadata": {},
   "outputs": [
    {
     "name": "stderr",
     "output_type": "stream",
     "text": [
      "                                                                                \r"
     ]
    }
   ],
   "source": [
    "# Read JSON file into a PySpark DataFrame\n",
    "df = spark.read.json(\"cc_sample_transaction.json\")"
   ]
  },
  {
   "cell_type": "markdown",
   "metadata": {},
   "source": [
    "## Inspect Data"
   ]
  },
  {
   "cell_type": "code",
   "execution_count": 487,
   "metadata": {},
   "outputs": [
    {
     "name": "stderr",
     "output_type": "stream",
     "text": [
      "[Stage 1117:>                                                     (0 + 10) / 10]\r"
     ]
    },
    {
     "name": "stdout",
     "output_type": "stream",
     "text": [
      "Dimension of the DataFrame is: (1296675, 15)\n",
      "root\n",
      " |-- Unnamed: 0: string (nullable = true)\n",
      " |-- amt: string (nullable = true)\n",
      " |-- category: string (nullable = true)\n",
      " |-- cc_bic: string (nullable = true)\n",
      " |-- cc_num: string (nullable = true)\n",
      " |-- is_fraud: string (nullable = true)\n",
      " |-- merch_eff_time: string (nullable = true)\n",
      " |-- merch_last_update_time: string (nullable = true)\n",
      " |-- merch_lat: string (nullable = true)\n",
      " |-- merch_long: string (nullable = true)\n",
      " |-- merch_zipcode: string (nullable = true)\n",
      " |-- merchant: string (nullable = true)\n",
      " |-- personal_detail: string (nullable = true)\n",
      " |-- trans_date_trans_time: string (nullable = true)\n",
      " |-- trans_num: string (nullable = true)\n",
      "\n"
     ]
    },
    {
     "name": "stderr",
     "output_type": "stream",
     "text": [
      "                                                                                \r"
     ]
    }
   ],
   "source": [
    "# Extract number of rows and columns\n",
    "row = df.count()\n",
    "col = len(df.columns)\n",
    "print(f'Dimension of the DataFrame is: {(row,col)}')\n",
    "\n",
    "# Extract column names and data types\n",
    "df.printSchema()"
   ]
  },
  {
   "cell_type": "code",
   "execution_count": 488,
   "metadata": {},
   "outputs": [
    {
     "name": "stderr",
     "output_type": "stream",
     "text": [
      "                                                                                \r"
     ]
    },
    {
     "name": "stdout",
     "output_type": "stream",
     "text": [
      "+---------+-----+\n",
      "|trans_num|count|\n",
      "+---------+-----+\n",
      "+---------+-----+\n",
      "\n"
     ]
    },
    {
     "name": "stderr",
     "output_type": "stream",
     "text": [
      "[Stage 1127:>                                                     (0 + 10) / 10]\r"
     ]
    },
    {
     "name": "stdout",
     "output_type": "stream",
     "text": [
      "+---------+-----+\n",
      "|trans_num|count|\n",
      "+---------+-----+\n",
      "+---------+-----+\n",
      "\n"
     ]
    }
   ],
   "source": [
    "# Check for duplicated rows in \"trans_num\" column\n",
    "df.groupBy(\"trans_num\").count().filter(\"count > 1\").show()\n",
    "\n",
    "# Check for NULL entries in \"trans_num\" column\n",
    "df.groupBy(\"trans_num\").count().filter(isnull(\"trans_num\") == True).show()"
   ]
  },
  {
   "cell_type": "markdown",
   "metadata": {},
   "source": [
    "## Data Transformation"
   ]
  },
  {
   "cell_type": "markdown",
   "metadata": {},
   "source": [
    "##### Extract data from JSON columns"
   ]
  },
  {
   "cell_type": "code",
   "execution_count": 489,
   "metadata": {},
   "outputs": [],
   "source": [
    "# Schema to represent out JSON data for \"personal_detail\" column\n",
    "schema = StructType(\n",
    "    [\n",
    "        StructField('person_name', StringType(), True),\n",
    "        StructField('gender', StringType(), True),\n",
    "        StructField('address', StringType(), True),\n",
    "        StructField('lat', StringType(), True),\n",
    "        StructField('long', StringType(), True),\n",
    "        StructField('city_pop', StringType(), True),\n",
    "        StructField('job', StringType(), True),\n",
    "        StructField('dob', DateType(), True)\n",
    "    ]\n",
    ")\n",
    "\n",
    "# Extract data from \"personal detail\" column\n",
    "df_clean = df.withColumn(\"personal_detail\", from_json(\"personal_detail\", schema))\n",
    "df_clean = df_clean.select(\"*\", \"personal_detail.*\")\n",
    "df_clean = df_clean.drop(\"personal_detail\")\n",
    "\n",
    "\n",
    "# Schema to represent out JSON data for \"address\" column\n",
    "schema2 = StructType(\n",
    "    [\n",
    "        StructField('street', StringType(), True),\n",
    "        StructField('city', StringType(), True),\n",
    "        StructField('state', StringType(), True),\n",
    "        StructField('zip', StringType(), True)\n",
    "    ]\n",
    ")\n",
    "\n",
    "# Extract data from \"address\" column\n",
    "df_clean = df_clean.withColumn(\"address\", from_json(\"address\", schema2))\n",
    "df_clean = df_clean.select(\"*\", \"address.*\")\n",
    "df_clean = df_clean.drop(\"address\")\n"
   ]
  },
  {
   "cell_type": "markdown",
   "metadata": {},
   "source": [
    "##### Check cleanliness of name columns"
   ]
  },
  {
   "cell_type": "code",
   "execution_count": 490,
   "metadata": {},
   "outputs": [
    {
     "name": "stderr",
     "output_type": "stream",
     "text": [
      "[Stage 1131:>                                                     (0 + 10) / 10]\r"
     ]
    },
    {
     "name": "stdout",
     "output_type": "stream",
     "text": [
      "Does \"person_name\" column entries contain non-alphabet characters?: True\n",
      "Does \"merchant\" column entries startwith \"fraud_\": True\n"
     ]
    },
    {
     "name": "stderr",
     "output_type": "stream",
     "text": [
      "                                                                                \r"
     ]
    }
   ],
   "source": [
    "# Check cleanliness of name columns\n",
    "check1 = df_clean.filter(df_clean[\"person_name\"].rlike(\"[^a-zA-Z]\")).count()>0\n",
    "check2 = df_clean.filter(df_clean[\"merchant\"].startswith(\"fraud_\")).count()>0\n",
    "print(f'Does \"person_name\" column entries contain non-alphabet characters?: {check1}')\n",
    "print(f'Does \"merchant\" column entries startwith \"fraud_\": {check2}')"
   ]
  },
  {
   "cell_type": "markdown",
   "metadata": {},
   "source": [
    "##### Clean name columns"
   ]
  },
  {
   "cell_type": "code",
   "execution_count": 491,
   "metadata": {},
   "outputs": [],
   "source": [
    "# Clean \"person_name\" column\n",
    "df_clean = df_clean.withColumn(\"person_name\", regexp_replace(\"person_name\", \"[^a-zA-Z]\", \" \")) # Replace all non-alphabet characters in string into a space\n",
    "df_clean = df_clean.withColumn(\"person_name\", regexp_replace(\"person_name\", \" +\", \" \")) # Replace multiple spaces into one space in string\n",
    "df_clean = df_clean.withColumn(\"person_name\", trim(\"person_name\")) # Trim leading and trailing spaces in string\n",
    "\n",
    "# Extract non-space first and second entries from \"person_name\" column\n",
    "split_col = split(df_clean[\"person_name\"], \" \")\n",
    "df_clean = df_clean.withColumn(\"first\", split_col.getItem(0))\n",
    "df_clean = df_clean.withColumn(\"last\", split_col.getItem(1))\n",
    "df_clean = df_clean.drop(\"person_name\")\n",
    "\n",
    "\n",
    "# Clean \"merchant\" column\n",
    "split_col = split(df_clean[\"merchant\"], \"_\")\n",
    "df_clean = df_clean.withColumn(\"merchant\", split_col.getItem(1))\n",
    "\n",
    "\n",
    "# Change \"job\" column from StringType to ArrayType\n",
    "df_clean = df_clean.withColumn(\"job\", split(df_clean[\"job\"], \",\\s*\"))"
   ]
  },
  {
   "cell_type": "markdown",
   "metadata": {},
   "source": [
    "##### Convert time-related columns into UTC+8 timezone timestamp format (i.e. YYYY-MM-DD HH:MM.SSSSSS Z)"
   ]
  },
  {
   "cell_type": "code",
   "execution_count": 492,
   "metadata": {},
   "outputs": [],
   "source": [
    "# Convert time-related columns into UTC+8 timezone\n",
    "df_clean = df_clean \\\n",
    "        .withColumn(\"trans_date_trans_time\", from_utc_timestamp(df_clean[\"trans_date_trans_time\"].astype('timestamp'), \"Asia/Kuala_Lumpur\")) \\\n",
    "        .withColumn(\"merch_last_update_time\", from_utc_timestamp((df_clean[\"merch_last_update_time\"].cast(LongType())/1000).astype('timestamp'), \"Asia/Kuala_Lumpur\")) \\\n",
    "        .withColumn(\"merch_eff_time\", from_utc_timestamp((df_clean[\"merch_eff_time\"].cast(LongType())/1000000).astype('timestamp'), \"Asia/Kuala_Lumpur\"))"
   ]
  },
  {
   "cell_type": "markdown",
   "metadata": {},
   "source": [
    "##### Convert columns into suitable data types"
   ]
  },
  {
   "cell_type": "code",
   "execution_count": 493,
   "metadata": {},
   "outputs": [],
   "source": [
    "# Convert columns into the correct data types\n",
    "df_clean = df_clean \\\n",
    "      .withColumn(\"amt\", df_clean[\"amt\"].cast(FloatType())) \\\n",
    "      .withColumn(\"is_fraud\", df_clean[\"is_fraud\"].cast(BooleanType())) \\\n",
    "      .withColumn(\"merch_lat\", df_clean[\"merch_lat\"].cast(FloatType())) \\\n",
    "      .withColumn(\"merch_long\", df_clean[\"merch_long\"].cast(FloatType())) \\\n",
    "      .withColumn(\"lat\", df_clean[\"lat\"].cast(FloatType())) \\\n",
    "      .withColumn(\"long\", df_clean[\"long\"].cast(FloatType())) \\\n",
    "      .withColumn(\"city_pop\", df_clean[\"city_pop\"].cast(IntegerType()))"
   ]
  },
  {
   "cell_type": "markdown",
   "metadata": {},
   "source": [
    "##### Check finalised column names and data types"
   ]
  },
  {
   "cell_type": "code",
   "execution_count": 494,
   "metadata": {},
   "outputs": [
    {
     "name": "stdout",
     "output_type": "stream",
     "text": [
      "root\n",
      " |-- Unnamed: 0: string (nullable = true)\n",
      " |-- amt: float (nullable = true)\n",
      " |-- category: string (nullable = true)\n",
      " |-- cc_bic: string (nullable = true)\n",
      " |-- cc_num: string (nullable = true)\n",
      " |-- is_fraud: boolean (nullable = true)\n",
      " |-- merch_eff_time: timestamp (nullable = true)\n",
      " |-- merch_last_update_time: timestamp (nullable = true)\n",
      " |-- merch_lat: float (nullable = true)\n",
      " |-- merch_long: float (nullable = true)\n",
      " |-- merch_zipcode: string (nullable = true)\n",
      " |-- merchant: string (nullable = true)\n",
      " |-- trans_date_trans_time: timestamp (nullable = true)\n",
      " |-- trans_num: string (nullable = true)\n",
      " |-- gender: string (nullable = true)\n",
      " |-- lat: float (nullable = true)\n",
      " |-- long: float (nullable = true)\n",
      " |-- city_pop: integer (nullable = true)\n",
      " |-- job: array (nullable = true)\n",
      " |    |-- element: string (containsNull = false)\n",
      " |-- dob: date (nullable = true)\n",
      " |-- street: string (nullable = true)\n",
      " |-- city: string (nullable = true)\n",
      " |-- state: string (nullable = true)\n",
      " |-- zip: string (nullable = true)\n",
      " |-- first: string (nullable = true)\n",
      " |-- last: string (nullable = true)\n",
      "\n"
     ]
    }
   ],
   "source": [
    "# Check finalised column names and data types\n",
    "df_clean.printSchema()"
   ]
  },
  {
   "cell_type": "markdown",
   "metadata": {},
   "source": [
    "## Data Analysis"
   ]
  },
  {
   "cell_type": "markdown",
   "metadata": {},
   "source": [
    "##### General analysis"
   ]
  },
  {
   "cell_type": "code",
   "execution_count": 495,
   "metadata": {},
   "outputs": [
    {
     "name": "stderr",
     "output_type": "stream",
     "text": [
      "                                                                                \r"
     ]
    },
    {
     "name": "stdout",
     "output_type": "stream",
     "text": [
      "+--------------------------+--------------------------+\n",
      "|min(trans_date_trans_time)|max(trans_date_trans_time)|\n",
      "+--------------------------+--------------------------+\n",
      "|       2019-01-01 08:00:18|       2020-06-21 20:13:37|\n",
      "+--------------------------+--------------------------+\n",
      "\n"
     ]
    },
    {
     "name": "stderr",
     "output_type": "stream",
     "text": [
      "[Stage 1137:>                                                     (0 + 10) / 10]\r"
     ]
    },
    {
     "name": "stdout",
     "output_type": "stream",
     "text": [
      "+--------+-------+\n",
      "|is_fraud|  count|\n",
      "+--------+-------+\n",
      "|    true|   7506|\n",
      "|   false|1289169|\n",
      "+--------+-------+\n",
      "\n"
     ]
    },
    {
     "name": "stderr",
     "output_type": "stream",
     "text": [
      "                                                                                \r"
     ]
    }
   ],
   "source": [
    "# Extract min and max transaction datetimes\n",
    "df_clean.agg(min(\"trans_date_trans_time\"), max(\"trans_date_trans_time\")).show()\n",
    "\n",
    "# Extract total number of fraudulent and fraudulent non-fraudulent transactions\n",
    "df_clean.groupBy(\"is_fraud\").count().show()"
   ]
  },
  {
   "cell_type": "markdown",
   "metadata": {},
   "source": [
    "##### Monthly Fraudulent Transactions"
   ]
  },
  {
   "cell_type": "code",
   "execution_count": 496,
   "metadata": {},
   "outputs": [
    {
     "name": "stderr",
     "output_type": "stream",
     "text": [
      "                                                                                \r"
     ]
    },
    {
     "data": {
      "image/png": "[encoded data removed]",
      "text/plain": [
       "<Figure size 640x480 with 1 Axes>"
      ]
     },
     "metadata": {},
     "output_type": "display_data"
    }
   ],
   "source": [
    "# Create new DataFrame for analysis\n",
    "df1 = df_clean.select(\"trans_date_trans_time\", \"is_fraud\")\n",
    "df1 = df1.filter(\"is_fraud == True\")\n",
    "\n",
    "# Extract year from date column\n",
    "df1 = df1.withColumn('month', date_format(\"trans_date_trans_time\", \"yyy-MM\"))\n",
    "\n",
    "# Finalise DataFrame\n",
    "df1 = df1.groupBy(\"month\").count().orderBy(\"month\")\n",
    "\n",
    "# Convert DataFrame to Pandas DataFrame\n",
    "df1_final = df1.toPandas()\n",
    "\n",
    "# Create function to add value labels\n",
    "x = df1_final[\"month\"]\n",
    "y = df1_final[\"count\"]\n",
    "def addlabels(x, y):\n",
    "    for i in range(len(x)):\n",
    "        plt.text(i, y[i] + 5, y[i], ha = 'center', fontsize = 7)\n",
    "\n",
    "# Visualise data\n",
    "plt.bar(x, y)\n",
    "plt.axhline(y = np.mean(y), color = 'red', linestyle = '--', linewidth = 1, label = 'Average')\n",
    "plt.legend(loc = 'upper right', fontsize = 7) \n",
    "plt.title(\"Total Monthly Fraudulent Transactions\", fontsize = 10)\n",
    "plt.xlabel(\"Month\", fontsize = 10)\n",
    "plt.ylabel(\"Total Fraudulent Transactions\", fontsize = 10)\n",
    "addlabels(x, y)\n",
    "plt.xticks(rotation = 25, fontsize = 8)\n",
    "plt.yticks(fontsize = 8)\n",
    "plt.show()"
   ]
  },
  {
   "cell_type": "markdown",
   "metadata": {},
   "source": [
    "##### Monthly Fraudulent Sum"
   ]
  },
  {
   "cell_type": "code",
   "execution_count": 497,
   "metadata": {},
   "outputs": [
    {
     "name": "stderr",
     "output_type": "stream",
     "text": [
      "                                                                                \r"
     ]
    },
    {
     "data": {
      "image/png": "[encoded data removed]",
      "text/plain": [
       "<Figure size 640x480 with 1 Axes>"
      ]
     },
     "metadata": {},
     "output_type": "display_data"
    },
    {
     "name": "stderr",
     "output_type": "stream",
     "text": [
      "[Stage 1156:>                                                     (0 + 10) / 10]\r"
     ]
    },
    {
     "name": "stdout",
     "output_type": "stream",
     "text": [
      "+-------+---------+\n",
      "|  month|      sum|\n",
      "+-------+---------+\n",
      "|2019-01|252961.88|\n",
      "|2019-02|270698.78|\n",
      "|2019-03|241292.31|\n",
      "|2019-04|205443.45|\n",
      "|2019-05|213820.23|\n",
      "|2019-06|175054.29|\n",
      "|2019-07| 193720.7|\n",
      "|2019-08|193898.41|\n",
      "|2019-09|224728.84|\n",
      "|2019-10|254857.96|\n",
      "|2019-11|193402.11|\n",
      "|2019-12|334583.59|\n",
      "|2020-01|187383.15|\n",
      "|2020-02|192522.64|\n",
      "|2020-03|219170.44|\n",
      "|2020-04|163107.05|\n",
      "|2020-05|288438.71|\n",
      "|2020-06|183004.07|\n",
      "+-------+---------+\n",
      "\n"
     ]
    },
    {
     "name": "stderr",
     "output_type": "stream",
     "text": [
      "                                                                                \r"
     ]
    }
   ],
   "source": [
    "# Create new DataFrame for analysis\n",
    "df2 = df_clean.select(\"amt\", \"trans_date_trans_time\", \"is_fraud\")\n",
    "df2 = df2.filter(\"is_fraud == True\")\n",
    "\n",
    "# Extract year from date column\n",
    "df2 = df2.withColumn('month', date_format(\"trans_date_trans_time\", \"yyy-MM\"))\n",
    "\n",
    "# Finalise DataFrame\n",
    "df2 = df2.groupBy(\"month\").sum(\"amt\").orderBy(\"month\")\n",
    "df2 = df2.withColumnRenamed(\"sum(amt)\", \"sum\")\n",
    "df2 = df2.withColumn(\"sum\", round(\"sum\", 2))\n",
    "\n",
    "# Convert DataFrame to Pandas DataFrame\n",
    "df2_final = df2.toPandas()\n",
    "\n",
    "# Visualise data\n",
    "x = df2_final[\"month\"]\n",
    "y = df2_final[\"sum\"]\n",
    "\n",
    "plt.bar(x, y)\n",
    "plt.axhline(y = np.mean(y), color = 'red', linestyle = '--', linewidth = 1, label = 'Average')\n",
    "plt.legend(loc = 'upper right', fontsize = 7) \n",
    "plt.title(\"Total Monthly Fraudulent Transactions\", fontsize = 10)\n",
    "plt.xlabel(\"Month\", fontsize = 10)\n",
    "plt.ylabel(\"Total Fraudulent Transactions\", fontsize = 10)\n",
    "plt.xticks(rotation = 25, fontsize = 8)\n",
    "plt.yticks(fontsize = 8)\n",
    "plt.show()\n",
    "\n",
    "df2.show()"
   ]
  },
  {
   "cell_type": "markdown",
   "metadata": {},
   "source": [
    "##### Top 10 User Cities With Highest Fraudulent Transactions"
   ]
  },
  {
   "cell_type": "code",
   "execution_count": 498,
   "metadata": {},
   "outputs": [
    {
     "name": "stderr",
     "output_type": "stream",
     "text": [
      "                                                                                \r"
     ]
    },
    {
     "data": {
      "image/png": "[encoded data removed]",
      "text/plain": [
       "<Figure size 640x480 with 1 Axes>"
      ]
     },
     "metadata": {},
     "output_type": "display_data"
    }
   ],
   "source": [
    "# Create new DataFrame for analysis\n",
    "df3 = df_clean.select(\"city\", \"is_fraud\")\n",
    "df3 = df3.filter(\"is_fraud == True\")\n",
    "\n",
    "# Finalise DataFrame\n",
    "df3 = df3.groupBy(\"city\").count().orderBy(\"count\", ascending=False)\n",
    "df3 = df3.limit(10)\n",
    "\n",
    "# Convert DataFrame to Pandas DataFrame\n",
    "df3_final = df3.toPandas()\n",
    "\n",
    "# Create function to add value labels\n",
    "x = df3_final[\"city\"]\n",
    "y = df3_final[\"count\"]\n",
    "def addlabels(x, y):\n",
    "    for i in range(len(x)):\n",
    "        plt.text(i, y[i] + 0.5, y[i], ha = 'center', fontsize = 7)\n",
    "\n",
    "# Visualise data\n",
    "plt.bar(x, y)\n",
    "plt.axhline(y = np.mean(y), color = 'red', linestyle = '--', linewidth = 1, label = 'Average')\n",
    "plt.legend(loc = 'upper right', fontsize = 7) \n",
    "plt.title(\"Top 10 User Cities With Highest Fraudulent Transactions\", fontsize = 10)\n",
    "plt.xlabel(\"City\", fontsize = 10)\n",
    "plt.ylabel(\"Total Fraudulent Transactions\", fontsize = 10)\n",
    "addlabels(x, y)\n",
    "plt.xticks(rotation = 25, fontsize = 8)\n",
    "plt.yticks(fontsize = 8)\n",
    "plt.show()"
   ]
  }
 ],
 "metadata": {
  "kernelspec": {
   "display_name": "Python 3",
   "language": "python",
   "name": "python3"
  },
  "language_info": {
   "codemirror_mode": {
    "name": "ipython",
    "version": 3
   },
   "file_extension": ".py",
   "mimetype": "text/x-python",
   "name": "python",
   "nbconvert_exporter": "python",
   "pygments_lexer": "ipython3",
   "version": "3.11.4"
  }
 },
 "nbformat": 4,
 "nbformat_minor": 2
}
